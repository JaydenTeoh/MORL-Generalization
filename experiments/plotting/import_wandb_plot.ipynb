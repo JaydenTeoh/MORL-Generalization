{
 "cells": [
  {
   "cell_type": "code",
   "execution_count": 13,
   "metadata": {},
   "outputs": [],
   "source": [
    "import pandas as pd\n",
    "import wandb\n",
    "import os\n",
    "import json\n",
    "from datetime import datetime\n",
    "from rich.progress import Progress\n",
    "from helpers.utils import ENVIRONMENTS_MAP\n",
    "\n",
    "api = wandb.Api(timeout=60)\n",
    "entity = 'jayden-teoh'\n",
    "project = 'MORL-Baselines'\n",
    "PLOT_TO_EXTRACT = 'eval/single_objective_return'\n",
    "ENV_NAME = \"MOHopperDR-v5\"\n",
    "ENVS = ENVIRONMENTS_MAP[ENV_NAME]"
   ]
  },
  {
   "cell_type": "code",
   "execution_count": 14,
   "metadata": {},
   "outputs": [],
   "source": [
    "filters = {\"group\": \"domain_randomization\"}\n",
    "try:\n",
    "    runs_sample = api.runs(path=f\"{entity}/{project}\", per_page=1)\n",
    "    total_runs = len(runs_sample)\n",
    "except Exception as e:\n",
    "    raise ValueError(f\"Invalid entity '{entity}' or project '{project}': {str(e)}\\n\\nAlso, make sure you are properly authenticated. You can authenticate by using 'wandb.login() or setting the environment variable 'WANDB_API_KEY'\")"
   ]
  },
  {
   "cell_type": "code",
   "execution_count": 39,
   "metadata": {},
   "outputs": [
    {
     "data": {
      "application/vnd.jupyter.widget-view+json": {
       "model_id": "6365ce7f5d754b4e91f990358a8b8d6c",
       "version_major": 2,
       "version_minor": 0
      },
      "text/plain": [
       "Output()"
      ]
     },
     "metadata": {},
     "output_type": "display_data"
    }
   ],
   "source": [
    "# Default CSV file name format\n",
    "date_str = datetime.now().strftime(\"%m%d%y\")\n",
    "output_file = f\"{entity}-{project}-{date_str}.csv\"\n",
    "\n",
    "for env in ENVS:\n",
    "    os.makedirs(f\"data/{PLOT_TO_EXTRACT}/{env}\", exist_ok=True)\n",
    "\n",
    "all_runs_data = []\n",
    "counter = 0\n",
    "with Progress() as progress:\n",
    "    task = progress.add_task(\"[cyan]Fetching runs...\", total=total_runs)\n",
    "\n",
    "    last_created_at = None\n",
    "    while not progress.finished:\n",
    "        filters = {\"group\": \"domain_randomization\", \"tags\": {\"$in\": [ENV_NAME]}}\n",
    "        if last_created_at:\n",
    "            filters[\"created_at\"] = {\"$gt\": last_created_at}\n",
    "\n",
    "        runs = api.runs(path=f\"{entity}/{project}\", per_page=100, order=\"created_at\", filters=filters)\n",
    "        for run in runs:\n",
    "            if run.state != \"finished\":\n",
    "                continue\n",
    "            run_data = {\n",
    "                \"global_step\": [],\n",
    "            }\n",
    "            \n",
    "            hist = [run.history(keys=[\"global_step\", f\"{PLOT_TO_EXTRACT}/{env}\"]) for env in ENVS]\n",
    "            env_id, algo_name, seed, time = run.name.split('__')\n",
    "            for i, env in enumerate(ENVS):\n",
    "                data = hist[i]\n",
    "                data.drop(\"_step\", axis=1, inplace=True) # Drop the _step column, we only need the global_step\n",
    "                # rename the column from \"<PLOT_TO_EXTRACT>/<env_name>\" to \"<PLOT_TO_EXTRACT>\"\n",
    "                data.rename(columns={f\"{PLOT_TO_EXTRACT}/{env}\": PLOT_TO_EXTRACT}, inplace=True)\n",
    "                os.makedirs(f\"data/{PLOT_TO_EXTRACT}/{env}/{algo_name}\", exist_ok=True)\n",
    "                data.to_csv(f\"data/{PLOT_TO_EXTRACT}/{env}/{algo_name}/seed_{seed}.csv\", index=False)\n",
    "            progress.update(task, advance=1)\n",
    "        if len(runs) > 0:\n",
    "            last_created_at = runs[-1].created_at"
   ]
  },
  {
   "cell_type": "code",
   "execution_count": null,
   "metadata": {},
   "outputs": [],
   "source": []
  }
 ],
 "metadata": {
  "kernelspec": {
   "display_name": "base",
   "language": "python",
   "name": "python3"
  },
  "language_info": {
   "codemirror_mode": {
    "name": "ipython",
    "version": 3
   },
   "file_extension": ".py",
   "mimetype": "text/x-python",
   "name": "python",
   "nbconvert_exporter": "python",
   "pygments_lexer": "ipython3",
   "version": "3.9.19"
  }
 },
 "nbformat": 4,
 "nbformat_minor": 2
}
