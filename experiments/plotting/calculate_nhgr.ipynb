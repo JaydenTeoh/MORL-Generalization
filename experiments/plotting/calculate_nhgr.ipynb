{
 "cells": [
  {
   "cell_type": "code",
   "execution_count": 5,
   "metadata": {},
   "outputs": [],
   "source": [
    "import pandas as pd\n",
    "import sys\n",
    "import os\n",
    "\n",
    "# Add the parent directory to sys.path\n",
    "sys.path.append(os.path.abspath(os.path.join('..')))\n",
    "\n",
    "ENV_NAME = \"MOHumanoidDR-v5\" # CHANGE THIS TO THE NAME OF THE ENVIRONMENT\n",
    "REWARD_DIM = 2 # CHANGE THIS TO THE NUMBER OF OBJECTIVES IN THE ENVIRONMENT\n",
    "SEEDS = [5,26,47,76,92] # CHANGE THIS TO THE SEEDS YOU USE\n",
    "\n",
    "from helpers.utils import ENVIRONMENTS_MAP, get_algorithms\n",
    "ALGORITHMS = get_algorithms(ENV_NAME)"
   ]
  },
  {
   "cell_type": "markdown",
   "metadata": {},
   "source": [
    "### Normalize Front and Calculate Normalized Hypervolume and EUM for Generalist and Specialist"
   ]
  },
  {
   "cell_type": "markdown",
   "metadata": {},
   "source": [
    "Import helpers"
   ]
  },
  {
   "cell_type": "code",
   "execution_count": 6,
   "metadata": {},
   "outputs": [],
   "source": [
    "import numpy as np\n",
    "\n",
    "sys.path.append(os.path.abspath(os.path.join('../..')))\n",
    "\n",
    "def get_normalized_vec_returns(all_vec_returns, minmax_range):\n",
    "    minmax_array = np.array([minmax_range[i] for i in range(all_vec_returns.shape[-1])])\n",
    "    min_vals = minmax_array[:, 0].reshape(1, 1, -1) # reshape to (1, 1, n_objectives) for broadcasting\n",
    "    max_vals = minmax_array[:, 1].reshape(1, 1, -1)\n",
    "\n",
    "    clipped_vec_returns = np.clip(all_vec_returns, min_vals, max_vals) # broadcasted clipping\n",
    "    \n",
    "    # Normalize\n",
    "    normalized_vec_returns = (clipped_vec_returns - min_vals) / (max_vals - min_vals)\n",
    "    \n",
    "    return normalized_vec_returns"
   ]
  },
  {
   "cell_type": "code",
   "execution_count": 7,
   "metadata": {},
   "outputs": [
    {
     "data": {
      "text/plain": [
       "[array([0., 1.]),\n",
       " array([0.01006263, 0.98993737]),\n",
       " array([0.02011696, 0.97988304]),\n",
       " array([0.03015917, 0.96984083]),\n",
       " array([0.04025468, 0.95974532])]"
      ]
     },
     "execution_count": 7,
     "metadata": {},
     "output_type": "execute_result"
    }
   ],
   "source": [
    "from mo_utils.performance_indicators import hypervolume, expected_utility\n",
    "from mo_utils.weights import equally_spaced_weights\n",
    "\n",
    "NUM_WEIGHTS = 100 # CHANGE THIS TO THE NUMBER OF WEIGHTS YOU WANT TO USE, NORMALLY ITS 100, FOR MARIO ITS 32\n",
    "EVAL_WEIGHTS = equally_spaced_weights(REWARD_DIM, NUM_WEIGHTS) \n",
    "\n",
    "EVAL_WEIGHTS[0:5]"
   ]
  },
  {
   "cell_type": "markdown",
   "metadata": {},
   "source": [
    "### Combine the fronts of all the Specialists for each environment"
   ]
  },
  {
   "cell_type": "code",
   "execution_count": 8,
   "metadata": {},
   "outputs": [
    {
     "name": "stdout",
     "output_type": "stream",
     "text": [
      "Found front for MOHumanoidDefault-v5 - MORL-D(MOSAC)-SB+PSA, total row: 28\n",
      "Found front for MOHumanoidDefault-v5 - GPI-LS Continuous Action, total row: 3\n",
      "Found front for MOHumanoidDefault-v5 - CAPQL, total row: 9\n",
      "Combined front for MOHumanoidDefault-v5 has 40 rows\n",
      "objective_1, Min: 216.90978306123483, Max: 395.3616006055876\n",
      "objective_2, Min: -34.9915380753552, Max: 189.06336671166113\n",
      "Filtered front for MOHumanoidDefault-v5 has 34 rows\n",
      "Found front for MOHumanoidLight-v5 - MORL-D(MOSAC)-SB+PSA, total row: 23\n",
      "Found front for MOHumanoidLight-v5 - CAPQL, total row: 2\n",
      "Combined front for MOHumanoidLight-v5 has 25 rows\n",
      "objective_1, Min: 218.1958525922188, Max: 548.3034055981165\n",
      "objective_2, Min: 66.74609125318608, Max: 156.4717393944678\n",
      "Filtered front for MOHumanoidLight-v5 has 20 rows\n",
      "Found front for MOHumanoidHeavy-v5 - MORL-D(MOSAC)-SB+PSA, total row: 17\n",
      "Found front for MOHumanoidHeavy-v5 - CAPQL, total row: 1\n",
      "Combined front for MOHumanoidHeavy-v5 has 18 rows\n",
      "objective_1, Min: 152.12500300010046, Max: 231.5039309993299\n",
      "objective_2, Min: 51.52771267290441, Max: 135.41547644138336\n",
      "Filtered front for MOHumanoidHeavy-v5 has 18 rows\n",
      "Found front for MOHumanoidLowDamping-v5 - MORL-D(MOSAC)-SB+PSA, total row: 15\n",
      "Found front for MOHumanoidLowDamping-v5 - CAPQL, total row: 5\n",
      "Combined front for MOHumanoidLowDamping-v5 has 20 rows\n",
      "objective_1, Min: 238.6017118986565, Max: 374.23731533316214\n",
      "objective_2, Min: 65.92790498692379, Max: 182.43069206122163\n",
      "Filtered front for MOHumanoidLowDamping-v5 has 20 rows\n",
      "Found front for MOHumanoidHard-v5 - MORL-D(MOSAC)-SB+PSA, total row: 19\n",
      "Found front for MOHumanoidHard-v5 - CAPQL, total row: 1\n",
      "Combined front for MOHumanoidHard-v5 has 20 rows\n",
      "objective_1, Min: 102.76910463968912, Max: 329.5104117478234\n",
      "objective_2, Min: 63.46699332140975, Max: 88.61866133222672\n",
      "Filtered front for MOHumanoidHard-v5 has 19 rows\n"
     ]
    }
   ],
   "source": [
    "import warnings\n",
    "from mo_utils.pareto import filter_pareto_dominated\n",
    "\n",
    "curr_envs = ENVIRONMENTS_MAP[ENV_NAME]\n",
    "SPECIALIST_FRONT = \"eval/front\" # don't change this, this is the discounted fronts but poorly named!!\n",
    "path_to_find_fronts = f\"data/single_env/{SPECIALIST_FRONT}/{ENV_NAME}\"\n",
    "\n",
    "for env in curr_envs:\n",
    "    unfiltered_combined_front_df = None\n",
    "    path_to_find_front_for_subenv = path_to_find_fronts + f\"/{env}\"\n",
    "    \n",
    "    for algo in ALGORITHMS:\n",
    "        if os.path.exists(path_to_find_front_for_subenv + f\"/{algo}.csv\"):\n",
    "            front_df = pd.read_csv(path_to_find_front_for_subenv + f\"/{algo}.csv\")\n",
    "            print(f\"Found front for {env} - {algo}, total row: {len(front_df)}\")\n",
    "            if unfiltered_combined_front_df is None:\n",
    "                unfiltered_combined_front_df = front_df\n",
    "            else:\n",
    "                unfiltered_combined_front_df = pd.concat([unfiltered_combined_front_df, front_df])\n",
    "\n",
    "    if unfiltered_combined_front_df is None:\n",
    "        warnings.warn(f\"No fronts found for {env}\")\n",
    "        continue\n",
    "    \n",
    "    unfiltered_combined_front_df = unfiltered_combined_front_df.reset_index(drop=True)\n",
    "    print(f\"Combined front for {env} has {len(unfiltered_combined_front_df)} rows\")\n",
    "\n",
    "    for column in unfiltered_combined_front_df.columns:\n",
    "        min_value = unfiltered_combined_front_df[column].min()\n",
    "        max_value = unfiltered_combined_front_df[column].max()\n",
    "        print(f\"{column}, Min: {min_value}, Max: {max_value}\")\n",
    "\n",
    "    combined_front_array = unfiltered_combined_front_df.to_numpy()\n",
    "    filtered_combined_front_array = filter_pareto_dominated(combined_front_array)\n",
    "\n",
    "    combined_front_df = pd.DataFrame(filtered_combined_front_array, columns=unfiltered_combined_front_df.columns)\n",
    "    print(f\"Filtered front for {env} has {len(combined_front_df)} rows\")\n",
    "    save_dir = f\"data/single_env/combined_fronts/{ENV_NAME}/\"\n",
    "    if not os.path.exists(save_dir):\n",
    "        os.makedirs(save_dir)\n",
    "    combined_front_df.to_csv(f\"{save_dir}/{env}.csv\", index=False)"
   ]
  },
  {
   "cell_type": "markdown",
   "metadata": {},
   "source": [
    "### Normalize the fronts and calculate normalized hypervolume and EUM for SPECIALIST"
   ]
  },
  {
   "cell_type": "code",
   "execution_count": 9,
   "metadata": {},
   "outputs": [
    {
     "data": {
      "text/plain": [
       "{'MOHumanoidDefault-v5': {0: [0, 395.4], 1: [-35, 188]},\n",
       " 'MOHumanoidLight-v5': {0: [0, 548], 1: [0, 156.4]},\n",
       " 'MOHumanoidHeavy-v5': {0: [0, 232], 1: [0, 135.4]},\n",
       " 'MOHumanoidLowDamping-v5': {0: [0, 374], 1: [0, 182.4]},\n",
       " 'MOHumanoidHard-v5': {0: [0, 330], 1: [-9, 88.6]}}"
      ]
     },
     "execution_count": 9,
     "metadata": {},
     "output_type": "execute_result"
    }
   ],
   "source": [
    "from evaluation import get_eval_params\n",
    "\n",
    "# These should exist in 'experiments/evaluation/eval_params.yaml' for current environment\n",
    "# For new environments, you can add them to the file using the minmax values from the previous step\n",
    "normalization_data = get_eval_params(ENV_NAME)['normalization']\n",
    "normalization_data"
   ]
  },
  {
   "cell_type": "code",
   "execution_count": 10,
   "metadata": {},
   "outputs": [],
   "source": [
    "from helpers.utils import ENVIRONMENTS_MAP\n",
    "\n",
    "FRONT = \"eval/discounted_front\" # don't change this, front extracted for specialists are only the discounted ones!!\n",
    "file_path = f\"data/{FRONT}/{ENV_NAME}\"\n",
    "scores_save_path = f\"data/scores/{ENV_NAME}\"\n",
    "\n",
    "os.makedirs(f\"{scores_save_path}\", exist_ok=True)"
   ]
  },
  {
   "cell_type": "code",
   "execution_count": 11,
   "metadata": {},
   "outputs": [
    {
     "name": "stdout",
     "output_type": "stream",
     "text": [
      "\n",
      "Compiled modules for significant speedup can not be used!\n",
      "https://pymoo.org/installation.html#installation\n",
      "\n",
      "To disable this warning:\n",
      "from pymoo.config import Config\n",
      "Config.warnings['not_compiled'] = False\n",
      "\n"
     ]
    }
   ],
   "source": [
    "normalized_specialist_hypervolumes = []\n",
    "normalized_specialist_eums = []\n",
    "\n",
    "for env in ENVIRONMENTS_MAP[ENV_NAME]:\n",
    "    min_max_ranges = normalization_data[env]\n",
    "    best_env_front_path = f\"data/single_env/combined_fronts/{ENV_NAME}/{env}.csv\"\n",
    "    assert os.path.exists(best_env_front_path), f\"File {best_env_front_path} does not exist\"\n",
    "    \n",
    "    best_env_front = pd.read_csv(best_env_front_path)\n",
    "    data_array = best_env_front.to_numpy()\n",
    "    normalized_front = get_normalized_vec_returns(data_array, min_max_ranges)\n",
    "    normalized_specialist_hypervolumes.append(hypervolume(np.zeros(REWARD_DIM), normalized_front[0]))\n",
    "    normalized_specialist_eums.append(expected_utility(normalized_front[0], weights_set=EVAL_WEIGHTS))\n",
    "\n",
    "specialist_data = {f\"normalized_hypervolume/{env}\": [normalized_specialist_hypervolumes[i]] for i, env in enumerate(ENVIRONMENTS_MAP[ENV_NAME])}\n",
    "specialist_data.update({f\"normalized_eum/{env}\": [normalized_specialist_eums[i]] for i, env in enumerate(ENVIRONMENTS_MAP[ENV_NAME])})\n",
    "specialist_normalized_hv = pd.DataFrame(specialist_data)\n",
    "specialist_normalized_hv.to_csv(f\"{scores_save_path}/specialist.csv\", index=False)"
   ]
  },
  {
   "cell_type": "markdown",
   "metadata": {},
   "source": [
    "### Normalize the fronts and calculate normalized hypervolume and EUM for GENERALIST"
   ]
  },
  {
   "cell_type": "code",
   "execution_count": 12,
   "metadata": {},
   "outputs": [],
   "source": [
    "# Load the data\n",
    "for algo in ALGORITHMS:\n",
    "    for seed in SEEDS:\n",
    "        normalized_hypervolumes = []\n",
    "        normalized_eums = []\n",
    "        for env in ENVIRONMENTS_MAP[ENV_NAME]:\n",
    "            min_max_ranges = normalization_data[env]\n",
    "            file = f\"{file_path}/{algo}/seed_{seed}/{env}.csv\"\n",
    "            assert os.path.exists(file), f\"File {file} does not exist\"\n",
    "            data = pd.read_csv(file)\n",
    "            # Convert dataframe to numpy array of vectors\n",
    "            data_array = data.to_numpy()\n",
    "            normalized_front = get_normalized_vec_returns(data_array, min_max_ranges)\n",
    "\n",
    "            normalized_hypervolumes.append(hypervolume(np.zeros(REWARD_DIM), normalized_front[0]))\n",
    "            normalized_eums.append(expected_utility(normalized_front[0], weights_set=EVAL_WEIGHTS))\n",
    "\n",
    "        data = {f\"normalized_hypervolume/{env}\": [normalized_hypervolumes[i]] for i, env in enumerate(ENVIRONMENTS_MAP[ENV_NAME])}\n",
    "        data.update({f\"normalized_eum/{env}\": [normalized_eums[i]] for i, env in enumerate(ENVIRONMENTS_MAP[ENV_NAME])})\n",
    "        df = pd.DataFrame(data)\n",
    "        os.makedirs(f\"{scores_save_path}/{algo}/\", exist_ok=True)\n",
    "        df.to_csv(f\"{scores_save_path}/{algo}/seed_{seed}.csv\", index=False)\n",
    "            "
   ]
  },
  {
   "cell_type": "markdown",
   "metadata": {},
   "source": [
    "# Calculate NHGR"
   ]
  },
  {
   "cell_type": "code",
   "execution_count": 14,
   "metadata": {},
   "outputs": [],
   "source": [
    "# get the normalized hypervolumes of the specialists\n",
    "specialist_normalized_hv_data = pd.read_csv(f\"{scores_save_path}/specialist.csv\")\n",
    "\n",
    "for algo in ALGORITHMS:\n",
    "    for seed in SEEDS:\n",
    "        nhgrs = []\n",
    "        # get the normalized hypervolumes we extracted earlier\n",
    "        file = f\"{scores_save_path}/{algo}/seed_{seed}.csv\"\n",
    "        seed_normalized_hv_data = pd.read_csv(file)\n",
    "\n",
    "        for env in ENVIRONMENTS_MAP[ENV_NAME]:\n",
    "            # Filter columns that start with \"normalized_hypervolume\"\n",
    "            col = f\"normalized_hypervolume/{env}\"\n",
    "\n",
    "            specialist_normalized_hv = specialist_normalized_hv_data[col].values[0]\n",
    "            generalist_normalized_hv = seed_normalized_hv_data[col].values[0]\n",
    "            \n",
    "            env_nhgr = generalist_normalized_hv / specialist_normalized_hv\n",
    "\n",
    "            seed_normalized_hv_data[f'NHGR/{env}'] = env_nhgr\n",
    "        \n",
    "        seed_normalized_hv_data.to_csv(f\"{scores_save_path}/{algo}/seed_{seed}.csv\", index=False)"
   ]
  },
  {
   "cell_type": "code",
   "execution_count": null,
   "metadata": {},
   "outputs": [],
   "source": []
  },
  {
   "cell_type": "markdown",
   "metadata": {},
   "source": []
  }
 ],
 "metadata": {
  "kernelspec": {
   "display_name": "Python 3",
   "language": "python",
   "name": "python3"
  },
  "language_info": {
   "codemirror_mode": {
    "name": "ipython",
    "version": 3
   },
   "file_extension": ".py",
   "mimetype": "text/x-python",
   "name": "python",
   "nbconvert_exporter": "python",
   "pygments_lexer": "ipython3",
   "version": "3.9.19"
  }
 },
 "nbformat": 4,
 "nbformat_minor": 2
}
