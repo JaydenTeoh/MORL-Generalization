{
 "cells": [
  {
   "cell_type": "code",
   "execution_count": 1,
   "metadata": {},
   "outputs": [],
   "source": [
    "import pandas as pd\n",
    "import sys\n",
    "import os\n",
    "\n",
    "# Add the parent directory to sys.path\n",
    "sys.path.append(os.path.abspath(os.path.join('..')))\n",
    "\n",
    "ENV_NAME = \"MOSuperMarioBrosZeroShot-v2\" # CHANGE THIS TO THE NAME OF THE ENVIRONMENT\n",
    "REWARD_DIM = 3 # CHANGE THIS TO THE NUMBER OF OBJECTIVES IN THE ENVIRONMENT\n",
    "SEEDS = [5,26,47,76,92] # CHANGE THIS TO THE SEEDS YOU USE\n",
    "\n",
    "from helpers.utils import ENVIRONMENTS_MAP, get_algorithms\n",
    "ALGORITHMS = get_algorithms(ENV_NAME)"
   ]
  },
  {
   "cell_type": "markdown",
   "metadata": {},
   "source": [
    "### Normalize Front and Calculate Normalized Hypervolume and EUM for Generalist and Specialist"
   ]
  },
  {
   "cell_type": "markdown",
   "metadata": {},
   "source": [
    "Import helpers"
   ]
  },
  {
   "cell_type": "code",
   "execution_count": 2,
   "metadata": {},
   "outputs": [],
   "source": [
    "import numpy as np\n",
    "\n",
    "sys.path.append(os.path.abspath(os.path.join('../..')))\n",
    "\n",
    "def get_normalized_vec_returns(all_vec_returns, minmax_range):\n",
    "    minmax_array = np.array([minmax_range[i] for i in range(all_vec_returns.shape[-1])])\n",
    "    min_vals = minmax_array[:, 0].reshape(1, 1, -1) # reshape to (1, 1, n_objectives) for broadcasting\n",
    "    max_vals = minmax_array[:, 1].reshape(1, 1, -1)\n",
    "\n",
    "    clipped_vec_returns = np.clip(all_vec_returns, min_vals, max_vals) # broadcasted clipping\n",
    "    \n",
    "    # Normalize\n",
    "    normalized_vec_returns = (clipped_vec_returns - min_vals) / (max_vals - min_vals)\n",
    "    \n",
    "    return normalized_vec_returns"
   ]
  },
  {
   "cell_type": "code",
   "execution_count": 3,
   "metadata": {},
   "outputs": [
    {
     "data": {
      "text/plain": [
       "[array([0., 0., 1.]),\n",
       " array([0.        , 0.08214483, 0.91785517]),\n",
       " array([0.        , 0.16223292, 0.83776708]),\n",
       " array([0.       , 0.2406957, 0.7593043]),\n",
       " array([0.        , 0.31771743, 0.68228257])]"
      ]
     },
     "execution_count": 3,
     "metadata": {},
     "output_type": "execute_result"
    }
   ],
   "source": [
    "from mo_utils.performance_indicators import hypervolume, expected_utility\n",
    "from mo_utils.weights import equally_spaced_weights\n",
    "\n",
    "NUM_WEIGHTS = 100 # CHANGE THIS TO THE NUMBER OF WEIGHTS YOU WANT TO USE, NORMALLY ITS 100, FOR MARIO ITS 32\n",
    "EVAL_WEIGHTS = equally_spaced_weights(REWARD_DIM, NUM_WEIGHTS) \n",
    "\n",
    "EVAL_WEIGHTS[0:5]"
   ]
  },
  {
   "cell_type": "markdown",
   "metadata": {},
   "source": [
    "### Combine the fronts of all the Specialists for each environment"
   ]
  },
  {
   "cell_type": "code",
   "execution_count": 4,
   "metadata": {},
   "outputs": [
    {
     "name": "stdout",
     "output_type": "stream",
     "text": [
      "Found front for MOSuperMarioBros-2-3-v2 - GPI-LS, total row: 5\n",
      "Combined front for MOSuperMarioBros-2-3-v2 has 5 rows\n",
      "objective_1, Min: 14.895938292145727, Max: 30.70042108744383\n",
      "objective_2, Min: -0.2496916595846414, Max: 26.67061138758436\n",
      "objective_3, Min: -0.5403381395153701, Max: 7.234124569222331\n",
      "Filtered front for MOSuperMarioBros-2-3-v2 has 5 rows\n",
      "Found front for MOSuperMarioBros-3-2-v2 - GPI-LS, total row: 9\n",
      "Combined front for MOSuperMarioBros-3-2-v2 has 9 rows\n",
      "objective_1, Min: 20.316814068704844, Max: 29.48470828018617\n",
      "objective_2, Min: 0.8370645992690697, Max: 3.726304597221315\n",
      "objective_3, Min: 16.473927622660995, Max: 102.41305612551514\n",
      "Filtered front for MOSuperMarioBros-3-2-v2 has 9 rows\n",
      "Found front for MOSuperMarioBros-3-3-v2 - GPI-LS, total row: 3\n",
      "Combined front for MOSuperMarioBros-3-3-v2 has 3 rows\n",
      "objective_1, Min: 27.72344933144632, Max: 29.117828100919724\n",
      "objective_2, Min: 16.888624942366732, Max: 22.312103191856295\n",
      "objective_3, Min: 5.529992267023772, Max: 20.547306773689343\n",
      "Filtered front for MOSuperMarioBros-3-3-v2 has 3 rows\n",
      "Found front for MOSuperMarioBros-4-3-v2 - GPI-LS, total row: 4\n",
      "Combined front for MOSuperMarioBros-4-3-v2 has 4 rows\n",
      "objective_1, Min: 16.2772070011124, Max: 17.782879892736673\n",
      "objective_2, Min: 12.578936432488264, Max: 16.310477496124804\n",
      "objective_3, Min: 1.6619895296171308, Max: 44.93959263432771\n",
      "Filtered front for MOSuperMarioBros-4-3-v2 has 4 rows\n",
      "Found front for MOSuperMarioBros-5-2-v2 - GPI-LS, total row: 3\n",
      "Combined front for MOSuperMarioBros-5-2-v2 has 3 rows\n",
      "objective_1, Min: 23.906921550631523, Max: 26.12207044661045\n",
      "objective_2, Min: 6.856915347743779, Max: 8.600559946615249\n",
      "objective_3, Min: 31.38791956007481, Max: 31.51780390413478\n",
      "Filtered front for MOSuperMarioBros-5-2-v2 has 3 rows\n",
      "Found front for MOSuperMarioBros-5-3-v2 - GPI-LS, total row: 4\n",
      "Combined front for MOSuperMarioBros-5-3-v2 has 4 rows\n",
      "objective_1, Min: 18.404034227132797, Max: 21.71461871266365\n",
      "objective_2, Min: 1.3601775597780943, Max: 2.9181536538526416\n",
      "objective_3, Min: 13.499172589741647, Max: 16.094012478366494\n",
      "Filtered front for MOSuperMarioBros-5-3-v2 has 4 rows\n",
      "Found front for MOSuperMarioBros-7-3-v2 - GPI-LS, total row: 5\n",
      "Combined front for MOSuperMarioBros-7-3-v2 has 5 rows\n",
      "objective_1, Min: 21.52251236885786, Max: 26.75826046615839\n",
      "objective_2, Min: 12.00053163897246, Max: 18.456111102364957\n",
      "objective_3, Min: 6.1385262459516525, Max: 7.687908935360611\n",
      "Filtered front for MOSuperMarioBros-7-3-v2 has 5 rows\n",
      "Found front for MOSuperMarioBros-8-1-v2 - GPI-LS, total row: 4\n",
      "Combined front for MOSuperMarioBros-8-1-v2 has 4 rows\n",
      "objective_1, Min: 17.12610218441114, Max: 20.113987841643393\n",
      "objective_2, Min: 0.362680634483695, Max: 0.5844662953168154\n",
      "objective_3, Min: 9.587779282592235, Max: 158.1678514489904\n",
      "Filtered front for MOSuperMarioBros-8-1-v2 has 4 rows\n"
     ]
    }
   ],
   "source": [
    "import warnings\n",
    "from mo_utils.pareto import filter_pareto_dominated\n",
    "\n",
    "curr_envs = ENVIRONMENTS_MAP[ENV_NAME]\n",
    "SPECIALIST_FRONT = \"eval/front\" # don't change this, this is the discounted fronts but poorly named!!\n",
    "path_to_find_fronts = f\"data/single_env/{SPECIALIST_FRONT}/{ENV_NAME}\"\n",
    "\n",
    "for env in curr_envs:\n",
    "    unfiltered_combined_front_df = None\n",
    "    path_to_find_front_for_subenv = path_to_find_fronts + f\"/{env}\"\n",
    "    \n",
    "    for algo in ALGORITHMS:\n",
    "        if os.path.exists(path_to_find_front_for_subenv + f\"/{algo}.csv\"):\n",
    "            front_df = pd.read_csv(path_to_find_front_for_subenv + f\"/{algo}.csv\")\n",
    "            print(f\"Found front for {env} - {algo}, total row: {len(front_df)}\")\n",
    "            if unfiltered_combined_front_df is None:\n",
    "                unfiltered_combined_front_df = front_df\n",
    "            else:\n",
    "                unfiltered_combined_front_df = pd.concat([unfiltered_combined_front_df, front_df])\n",
    "\n",
    "    if unfiltered_combined_front_df is None:\n",
    "        warnings.warn(f\"No fronts found for {env}\")\n",
    "        continue\n",
    "    \n",
    "    unfiltered_combined_front_df = unfiltered_combined_front_df.reset_index(drop=True)\n",
    "    print(f\"Combined front for {env} has {len(unfiltered_combined_front_df)} rows\")\n",
    "\n",
    "    for column in unfiltered_combined_front_df.columns:\n",
    "        min_value = unfiltered_combined_front_df[column].min()\n",
    "        max_value = unfiltered_combined_front_df[column].max()\n",
    "        print(f\"{column}, Min: {min_value}, Max: {max_value}\")\n",
    "\n",
    "    combined_front_array = unfiltered_combined_front_df.to_numpy()\n",
    "    filtered_combined_front_array = filter_pareto_dominated(combined_front_array)\n",
    "\n",
    "    combined_front_df = pd.DataFrame(filtered_combined_front_array, columns=unfiltered_combined_front_df.columns)\n",
    "    print(f\"Filtered front for {env} has {len(combined_front_df)} rows\")\n",
    "    save_dir = f\"data/single_env/combined_fronts/{ENV_NAME}/\"\n",
    "    if not os.path.exists(save_dir):\n",
    "        os.makedirs(save_dir)\n",
    "    combined_front_df.to_csv(f\"{save_dir}/{env}.csv\", index=False)"
   ]
  },
  {
   "cell_type": "markdown",
   "metadata": {},
   "source": [
    "### Normalize the fronts and calculate normalized hypervolume and EUM for SPECIALIST"
   ]
  },
  {
   "cell_type": "code",
   "execution_count": 23,
   "metadata": {},
   "outputs": [
    {
     "data": {
      "text/plain": [
       "{'MOLavaGridCheckerBoard-v0': {0: [0, 107.34], 1: [0, 218.76]},\n",
       " 'MOLavaGridSmiley-v0': {0: [0, 270.69], 1: [0, 225.5]},\n",
       " 'MOLavaGridSnake-v0': {0: [0, 234.21], 1: [0, 220.54]},\n",
       " 'MOLavaGridIslands-v0': {0: [0, 124.23], 1: [0, 204.7]},\n",
       " 'MOLavaGridLabyrinth-v0': {0: [0, 250.05], 1: [0, 226.95]},\n",
       " 'MOLavaGridMaze-v0': {0: [0, 237.33], 1: [0, 203.59]},\n",
       " 'MOLavaGridCorridor-v0': {0: [0, 265.66], 1: [0, 240.21]},\n",
       " 'MOLavaGridRoom-v0': {0: [0, 263.86], 1: [0, 215.75]}}"
      ]
     },
     "execution_count": 23,
     "metadata": {},
     "output_type": "execute_result"
    }
   ],
   "source": [
    "from evaluation import get_eval_params\n",
    "\n",
    "# These should exist in 'experiments/evaluation/eval_params.yaml' for current environment\n",
    "# For new environments, you can add them to the file using the minmax values from the previous step\n",
    "normalization_data = get_eval_params(ENV_NAME)['normalization']\n",
    "normalization_data"
   ]
  },
  {
   "cell_type": "code",
   "execution_count": 24,
   "metadata": {},
   "outputs": [],
   "source": [
    "from helpers.utils import ENVIRONMENTS_MAP\n",
    "\n",
    "FRONT = \"eval/discounted_front\" # don't change this, front extracted for specialists are only the discounted ones!!\n",
    "file_path = f\"data/{FRONT}/{ENV_NAME}\"\n",
    "scores_save_path = f\"data/scores/{ENV_NAME}\"\n",
    "\n",
    "os.makedirs(f\"{scores_save_path}\", exist_ok=True)"
   ]
  },
  {
   "cell_type": "code",
   "execution_count": 25,
   "metadata": {},
   "outputs": [],
   "source": [
    "normalized_specialist_hypervolumes = []\n",
    "normalized_specialist_eums = []\n",
    "\n",
    "for env in ENVIRONMENTS_MAP[ENV_NAME]:\n",
    "    min_max_ranges = normalization_data[env]\n",
    "    best_env_front_path = f\"data/single_env/combined_fronts/{ENV_NAME}/{env}.csv\"\n",
    "    assert os.path.exists(best_env_front_path), f\"File {best_env_front_path} does not exist\"\n",
    "    \n",
    "    best_env_front = pd.read_csv(best_env_front_path)\n",
    "    data_array = best_env_front.to_numpy()\n",
    "    normalized_front = get_normalized_vec_returns(data_array, min_max_ranges)\n",
    "    normalized_specialist_hypervolumes.append(hypervolume(np.zeros(REWARD_DIM), normalized_front[0]))\n",
    "    normalized_specialist_eums.append(expected_utility(normalized_front[0], weights_set=EVAL_WEIGHTS))\n",
    "\n",
    "specialist_data = {f\"normalized_hypervolume/{env}\": [normalized_specialist_hypervolumes[i]] for i, env in enumerate(ENVIRONMENTS_MAP[ENV_NAME])}\n",
    "specialist_data.update({f\"normalized_eum/{env}\": [normalized_specialist_eums[i]] for i, env in enumerate(ENVIRONMENTS_MAP[ENV_NAME])})\n",
    "specialist_normalized_hv = pd.DataFrame(specialist_data)\n",
    "specialist_normalized_hv.to_csv(f\"{scores_save_path}/specialist.csv\", index=False)"
   ]
  },
  {
   "cell_type": "markdown",
   "metadata": {},
   "source": [
    "### Normalize the fronts and calculate normalized hypervolume and EUM for GENERALIST"
   ]
  },
  {
   "cell_type": "code",
   "execution_count": 26,
   "metadata": {},
   "outputs": [],
   "source": [
    "# Load the data\n",
    "for algo in ALGORITHMS:\n",
    "    for seed in SEEDS:\n",
    "        normalized_hypervolumes = []\n",
    "        normalized_eums = []\n",
    "        for env in ENVIRONMENTS_MAP[ENV_NAME]:\n",
    "            min_max_ranges = normalization_data[env]\n",
    "            file = f\"{file_path}/{algo}/seed_{seed}/{env}.csv\"\n",
    "            assert os.path.exists(file), f\"File {file} does not exist\"\n",
    "            data = pd.read_csv(file)\n",
    "            # Convert dataframe to numpy array of vectors\n",
    "            data_array = data.to_numpy()\n",
    "            normalized_front = get_normalized_vec_returns(data_array, min_max_ranges)\n",
    "\n",
    "            normalized_hypervolumes.append(hypervolume(np.zeros(REWARD_DIM), normalized_front[0]))\n",
    "            normalized_eums.append(expected_utility(normalized_front[0], weights_set=EVAL_WEIGHTS))\n",
    "\n",
    "        data = {f\"normalized_hypervolume/{env}\": [normalized_hypervolumes[i]] for i, env in enumerate(ENVIRONMENTS_MAP[ENV_NAME])}\n",
    "        data.update({f\"normalized_eum/{env}\": [normalized_eums[i]] for i, env in enumerate(ENVIRONMENTS_MAP[ENV_NAME])})\n",
    "        df = pd.DataFrame(data)\n",
    "        os.makedirs(f\"{scores_save_path}/{algo}/\", exist_ok=True)\n",
    "        df.to_csv(f\"{scores_save_path}/{algo}/seed_{seed}.csv\", index=False)\n",
    "            "
   ]
  },
  {
   "cell_type": "markdown",
   "metadata": {},
   "source": [
    "# Calculate NHGR"
   ]
  },
  {
   "cell_type": "code",
   "execution_count": 27,
   "metadata": {},
   "outputs": [],
   "source": [
    "# get the normalized hypervolumes of the specialists\n",
    "specialist_normalized_hv_data = pd.read_csv(f\"{scores_save_path}/specialist.csv\")\n",
    "\n",
    "for algo in ALGORITHMS:\n",
    "    for seed in SEEDS:\n",
    "        nhgrs = []\n",
    "        # get the normalized hypervolumes we extracted earlier\n",
    "        file = f\"{scores_save_path}/{algo}/seed_{seed}.csv\"\n",
    "        seed_normalized_hv_data = pd.read_csv(file)\n",
    "\n",
    "        for env in ENVIRONMENTS_MAP[ENV_NAME]:\n",
    "            # Filter columns that start with \"normalized_hypervolume\"\n",
    "            col = f\"normalized_hypervolume/{env}\"\n",
    "\n",
    "            specialist_normalized_hv = specialist_normalized_hv_data[col].values[0]\n",
    "            generalist_normalized_hv = seed_normalized_hv_data[col].values[0]\n",
    "            \n",
    "            env_nhgr = generalist_normalized_hv / specialist_normalized_hv\n",
    "\n",
    "            seed_normalized_hv_data[f'NHGR/{env}'] = env_nhgr\n",
    "        \n",
    "        seed_normalized_hv_data.to_csv(f\"{scores_save_path}/{algo}/seed_{seed}.csv\", index=False)"
   ]
  },
  {
   "cell_type": "code",
   "execution_count": null,
   "metadata": {},
   "outputs": [],
   "source": []
  },
  {
   "cell_type": "markdown",
   "metadata": {},
   "source": []
  }
 ],
 "metadata": {
  "kernelspec": {
   "display_name": "Python 3",
   "language": "python",
   "name": "python3"
  },
  "language_info": {
   "codemirror_mode": {
    "name": "ipython",
    "version": 3
   },
   "file_extension": ".py",
   "mimetype": "text/x-python",
   "name": "python",
   "nbconvert_exporter": "python",
   "pygments_lexer": "ipython3",
   "version": "3.9.19"
  }
 },
 "nbformat": 4,
 "nbformat_minor": 2
}
