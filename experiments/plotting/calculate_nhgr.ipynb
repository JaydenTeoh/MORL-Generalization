{
 "cells": [
  {
   "cell_type": "code",
   "execution_count": 1,
   "metadata": {},
   "outputs": [],
   "source": [
    "import pandas as pd\n",
    "import sys\n",
    "import os\n",
    "\n",
    "# Add the parent directory to sys.path\n",
    "sys.path.append(os.path.abspath(os.path.join('..')))\n",
    "\n",
    "ENV_NAME = \"MOHumanoidDR-v5\" # CHANGE THIS TO THE NAME OF THE ENVIRONMENT\n",
    "REWARD_DIM = 2 # CHANGE THIS TO THE NUMBER OF OBJECTIVES IN THE ENVIRONMENT\n",
    "SEEDS = [5,26,47,76,92] # CHANGE THIS TO THE SEEDS YOU USE"
   ]
  },
  {
   "cell_type": "markdown",
   "metadata": {},
   "source": [
    "### Get Normalization Params"
   ]
  },
  {
   "cell_type": "code",
   "execution_count": 2,
   "metadata": {},
   "outputs": [
    {
     "data": {
      "text/plain": [
       "{'MOHumanoidDefault-v5': {0: [0, 411], 1: [-40, 188]},\n",
       " 'MOHumanoidLight-v5': {0: [0, 548], 1: [0, 151]},\n",
       " 'MOHumanoidHeavy-v5': {0: [0, 232], 1: [0, 136]},\n",
       " 'MOHumanoidLowDamping-v5': {0: [0, 374], 1: [0, 139]},\n",
       " 'MOHumanoidHard-v5': {0: [0, 328], 1: [-10, 116]}}"
      ]
     },
     "execution_count": 2,
     "metadata": {},
     "output_type": "execute_result"
    }
   ],
   "source": [
    "from evaluation import get_eval_params\n",
    "\n",
    "normalization_data = get_eval_params(ENV_NAME)['normalization']\n",
    "normalization_data"
   ]
  },
  {
   "cell_type": "code",
   "execution_count": 3,
   "metadata": {},
   "outputs": [
    {
     "data": {
      "text/plain": [
       "{'MOHumanoidDefault-v5': 'data/single_env/MOHumanoidDR-v5/MOHumanoidDefault-v5/MORL-D(MOSAC)-SB+PSA_seed5.csv',\n",
       " 'MOHumanoidLight-v5': 'data/single_env/MOHumanoidDR-v5/MOHumanoidLight-v5/MORL-D(MOSAC)-SB+PSA_seed5.csv',\n",
       " 'MOHumanoidHeavy-v5': 'data/single_env/MOHumanoidDR-v5/MOHumanoidHeavy-v5/MORL-D(MOSAC)-SB+PSA_seed5.csv',\n",
       " 'MOHumanoidLowDamping-v5': 'data/single_env/MOHumanoidDR-v5/MOHumanoidLowDamping-v5/MORL-D(MOSAC)-SB+PSA_seed5.csv',\n",
       " 'MOHumanoidHard-v5': 'data/single_env/MOHumanoidDR-v5/MOHumanoidHard-v5/MORL-D(MOSAC)-SB+PSA_seed5.csv'}"
      ]
     },
     "execution_count": 3,
     "metadata": {},
     "output_type": "execute_result"
    }
   ],
   "source": [
    "best_front_paths = get_eval_params(ENV_NAME)['best_specialist_front_path']\n",
    "best_front_paths"
   ]
  },
  {
   "cell_type": "markdown",
   "metadata": {},
   "source": [
    "### Normalize Front and Calculate Normalized Hypervolume and EUM for Generalist and Specialist"
   ]
  },
  {
   "cell_type": "markdown",
   "metadata": {},
   "source": [
    "Import helpers"
   ]
  },
  {
   "cell_type": "code",
   "execution_count": 4,
   "metadata": {},
   "outputs": [],
   "source": [
    "import numpy as np\n",
    "\n",
    "sys.path.append(os.path.abspath(os.path.join('../..')))\n",
    "\n",
    "def get_normalized_vec_returns(all_vec_returns, minmax_range):\n",
    "    minmax_array = np.array([minmax_range[i] for i in range(all_vec_returns.shape[-1])])\n",
    "    min_vals = minmax_array[:, 0].reshape(1, 1, -1) # reshape to (1, 1, n_objectives) for broadcasting\n",
    "    max_vals = minmax_array[:, 1].reshape(1, 1, -1)\n",
    "\n",
    "    clipped_vec_returns = np.clip(all_vec_returns, min_vals, max_vals) # broadcasted clipping\n",
    "    \n",
    "    # Normalize\n",
    "    normalized_vec_returns = (clipped_vec_returns - min_vals) / (max_vals - min_vals)\n",
    "    \n",
    "    return normalized_vec_returns"
   ]
  },
  {
   "cell_type": "code",
   "execution_count": 5,
   "metadata": {},
   "outputs": [
    {
     "data": {
      "text/plain": [
       "[array([0., 1.]),\n",
       " array([0.00987073, 0.99012927]),\n",
       " array([0.01986059, 0.98013941]),\n",
       " array([0.02987081, 0.97012919]),\n",
       " array([0.03986195, 0.96013805])]"
      ]
     },
     "execution_count": 5,
     "metadata": {},
     "output_type": "execute_result"
    }
   ],
   "source": [
    "from mo_utils.performance_indicators import hypervolume, expected_utility\n",
    "from mo_utils.weights import equally_spaced_weights\n",
    "\n",
    "NUM_WEIGHTS = 100\n",
    "EVAL_WEIGHTS = equally_spaced_weights(REWARD_DIM, NUM_WEIGHTS) \n",
    "\n",
    "EVAL_WEIGHTS[0:5]"
   ]
  },
  {
   "cell_type": "markdown",
   "metadata": {},
   "source": [
    "### Normalize the fronts and calculate normalized hypervolume and EUM for SPECIALIST"
   ]
  },
  {
   "cell_type": "code",
   "execution_count": 6,
   "metadata": {},
   "outputs": [],
   "source": [
    "from helpers.utils import ENVIRONMENTS_MAP, ALGORITHMS\n",
    "\n",
    "FRONT = \"eval/discounted_front\" # don't change this, front extracted for specialists are only the discounted ones!!\n",
    "file_path = f\"data/{FRONT}/{ENV_NAME}\"\n",
    "scores_save_path = f\"data/scores/{ENV_NAME}\"\n",
    "\n",
    "os.makedirs(f\"{scores_save_path}\", exist_ok=True)"
   ]
  },
  {
   "cell_type": "code",
   "execution_count": 7,
   "metadata": {},
   "outputs": [
    {
     "name": "stdout",
     "output_type": "stream",
     "text": [
      "\n",
      "Compiled modules for significant speedup can not be used!\n",
      "https://pymoo.org/installation.html#installation\n",
      "\n",
      "To disable this warning:\n",
      "from pymoo.config import Config\n",
      "Config.warnings['not_compiled'] = False\n",
      "\n"
     ]
    }
   ],
   "source": [
    "normalized_specialist_hypervolumes = []\n",
    "normalized_specialist_eums = []\n",
    "\n",
    "for env in ENVIRONMENTS_MAP[ENV_NAME]:\n",
    "    min_max_ranges = normalization_data[env]\n",
    "    best_env_front_path = best_front_paths[env]\n",
    "    assert os.path.exists(best_env_front_path), f\"File {best_env_front_path} does not exist\"\n",
    "    \n",
    "    best_env_front = pd.read_csv(best_env_front_path)\n",
    "    data_array = best_env_front.to_numpy()\n",
    "    normalized_front = get_normalized_vec_returns(data_array, min_max_ranges)\n",
    "    normalized_specialist_hypervolumes.append(hypervolume(np.zeros(REWARD_DIM), normalized_front[0]))\n",
    "    normalized_specialist_eums.append(expected_utility(normalized_front[0], weights_set=EVAL_WEIGHTS))\n",
    "\n",
    "specialist_data = {f\"normalized_hypervolume/{env}\": [normalized_specialist_hypervolumes[i]] for i, env in enumerate(ENVIRONMENTS_MAP[ENV_NAME])}\n",
    "specialist_data.update({f\"normalized_eum/{env}\": [normalized_specialist_eums[i]] for i, env in enumerate(ENVIRONMENTS_MAP[ENV_NAME])})\n",
    "specialist_normalized_hv = pd.DataFrame(specialist_data)\n",
    "specialist_normalized_hv.to_csv(f\"{scores_save_path}/specialist.csv\", index=False)"
   ]
  },
  {
   "cell_type": "markdown",
   "metadata": {},
   "source": [
    "### Normalize the fronts and calculate normalized hypervolume and EUM for GENERALIST"
   ]
  },
  {
   "cell_type": "code",
   "execution_count": 8,
   "metadata": {},
   "outputs": [],
   "source": [
    "# Load the data\n",
    "for algo in ALGORITHMS:\n",
    "    for seed in SEEDS:\n",
    "        normalized_hypervolumes = []\n",
    "        normalized_eums = []\n",
    "        for env in ENVIRONMENTS_MAP[ENV_NAME]:\n",
    "            min_max_ranges = normalization_data[env]\n",
    "            file = f\"{file_path}/{algo}/seed_{seed}/{env}.csv\"\n",
    "            assert os.path.exists(file), f\"File {file} does not exist\"\n",
    "            data = pd.read_csv(file)\n",
    "            # Convert dataframe to numpy array of vectors\n",
    "            data_array = data.to_numpy()\n",
    "            normalized_front = get_normalized_vec_returns(data_array, min_max_ranges)\n",
    "\n",
    "            normalized_hypervolumes.append(hypervolume(np.zeros(REWARD_DIM), normalized_front[0]))\n",
    "            normalized_eums.append(expected_utility(normalized_front[0], weights_set=EVAL_WEIGHTS))\n",
    "\n",
    "        data = {f\"normalized_hypervolume/{env}\": [normalized_hypervolumes[i]] for i, env in enumerate(ENVIRONMENTS_MAP[ENV_NAME])}\n",
    "        data.update({f\"normalized_eum/{env}\": [normalized_eums[i]] for i, env in enumerate(ENVIRONMENTS_MAP[ENV_NAME])})\n",
    "        df = pd.DataFrame(data)\n",
    "        os.makedirs(f\"{scores_save_path}/{algo}/\", exist_ok=True)\n",
    "        df.to_csv(f\"{scores_save_path}/{algo}/seed_{seed}.csv\", index=False)\n",
    "            "
   ]
  },
  {
   "cell_type": "markdown",
   "metadata": {},
   "source": [
    "# Calculate NHGR"
   ]
  },
  {
   "cell_type": "code",
   "execution_count": 9,
   "metadata": {},
   "outputs": [],
   "source": [
    "# get the normalized hypervolumes of the specialists\n",
    "specialist_normalized_hv_data = pd.read_csv(f\"{scores_save_path}/specialist.csv\")\n",
    "\n",
    "for algo in ALGORITHMS:\n",
    "    for seed in SEEDS:\n",
    "        nhgrs = []\n",
    "        # get the normalized hypervolumes we extracted earlier\n",
    "        file = f\"{scores_save_path}/{algo}/seed_{seed}.csv\"\n",
    "        seed_normalized_hv_data = pd.read_csv(file)\n",
    "\n",
    "        for env in ENVIRONMENTS_MAP[ENV_NAME]:\n",
    "            # Filter columns that start with \"normalized_hypervolume\"\n",
    "            hv_columns = seed_normalized_hv_data.filter(like=\"normalized_hypervolume\").columns\n",
    "\n",
    "            for col in hv_columns:\n",
    "                specialist_normalized_hv = specialist_normalized_hv_data[col].values[0]\n",
    "                generalist_normalized_hv = seed_normalized_hv_data[col].values[0]\n",
    "                \n",
    "                env_nhgr = generalist_normalized_hv / specialist_normalized_hv\n",
    "\n",
    "                seed_normalized_hv_data[f'NHGR/{env}'] = env_nhgr\n",
    "        \n",
    "        seed_normalized_hv_data.to_csv(f\"{scores_save_path}/{algo}/seed_{seed}.csv\", index=False)"
   ]
  },
  {
   "cell_type": "code",
   "execution_count": null,
   "metadata": {},
   "outputs": [],
   "source": []
  }
 ],
 "metadata": {
  "kernelspec": {
   "display_name": "Python 3",
   "language": "python",
   "name": "python3"
  },
  "language_info": {
   "codemirror_mode": {
    "name": "ipython",
    "version": 3
   },
   "file_extension": ".py",
   "mimetype": "text/x-python",
   "name": "python",
   "nbconvert_exporter": "python",
   "pygments_lexer": "ipython3",
   "version": "3.9.19"
  }
 },
 "nbformat": 4,
 "nbformat_minor": 2
}
