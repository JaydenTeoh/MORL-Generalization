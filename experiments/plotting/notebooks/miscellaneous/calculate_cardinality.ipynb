{
 "cells": [
  {
   "cell_type": "code",
   "execution_count": 5,
   "metadata": {},
   "outputs": [],
   "source": [
    "import pandas as pd\n",
    "import sys\n",
    "import os\n",
    "\n",
    "# Add the parent directory to sys.path\n",
    "sys.path.append(os.path.abspath(os.path.join('..')))\n",
    "\n",
    "ENV_NAME = \"MOLunarLanderDR-v0\" # CHANGE THIS TO THE NAME OF THE ENVIRONMENT\n",
    "REWARD_DIM = 4 # CHANGE THIS TO THE NUMBER OF OBJECTIVES IN THE ENVIRONMENT\n",
    "SEEDS = [5,26,47,76,92] # CHANGE THIS TO THE SEEDS YOU USE\n",
    "\n",
    "from helpers.utils import ENVIRONMENTS_MAP, get_algorithms\n",
    "ALGORITHMS = get_algorithms(ENV_NAME)"
   ]
  },
  {
   "cell_type": "code",
   "execution_count": 6,
   "metadata": {},
   "outputs": [],
   "source": [
    "sys.path.append(os.path.abspath(os.path.join('../..')))\n",
    "\n",
    "from mo_utils.performance_indicators import cardinality\n",
    "from mo_utils.pareto import filter_pareto_dominated"
   ]
  },
  {
   "cell_type": "code",
   "execution_count": 7,
   "metadata": {},
   "outputs": [],
   "source": [
    "import warnings\n",
    "from mo_utils.pareto import filter_pareto_dominated\n",
    "\n",
    "curr_envs = ENVIRONMENTS_MAP[ENV_NAME]\n",
    "GENERALIST_FRONT = \"eval/discounted_front\" # don't change this, we use discounted for evaluations!!\n",
    "file_path = f\"data/{GENERALIST_FRONT}/{ENV_NAME}\"\n",
    "scores_save_path = f\"data/cardinality/{ENV_NAME}\"\n",
    "\n",
    "os.makedirs(f\"{scores_save_path}\", exist_ok=True)\n",
    "\n",
    "for algo in ALGORITHMS:\n",
    "    for seed in SEEDS:\n",
    "        generalist_eums = []\n",
    "        for env in ENVIRONMENTS_MAP[ENV_NAME]:\n",
    "            file = f\"{file_path}/{algo}/seed_{seed}/{env}.csv\"\n",
    "            assert os.path.exists(file), f\"File {file} does not exist\"\n",
    "            data = pd.read_csv(file)\n",
    "            # Convert dataframe to numpy array of vectors\n",
    "            data_array = data.to_numpy()\n",
    "            data_array = filter_pareto_dominated(data_array) # filter again to be sure\n",
    "\n",
    "            generalist_eums.append(cardinality(data_array))\n",
    "\n",
    "        data = {f\"cardinality/{env}\": [generalist_eums[i]] for i, env in enumerate(ENVIRONMENTS_MAP[ENV_NAME])}\n",
    "        df = pd.DataFrame(data)\n",
    "        os.makedirs(f\"{scores_save_path}/{algo}/\", exist_ok=True)\n",
    "        df.to_csv(f\"{scores_save_path}/{algo}/seed_{seed}.csv\", index=False)"
   ]
  },
  {
   "cell_type": "code",
   "execution_count": 8,
   "metadata": {},
   "outputs": [
    {
     "name": "stdout",
     "output_type": "stream",
     "text": [
      "Mean ± SE Cardinality Table:\n",
      "                             cardinality/MOLunarLanderDefault-v0 cardinality/MOLunarLanderHighGravity-v0 cardinality/MOLunarLanderWindy-v0 cardinality/MOLunarLanderTurbulent-v0 cardinality/MOLunarLanderHard-v0 cardinality/MOLunarLanderLowMainEngine-v0 cardinality/MOLunarLanderStartLow-v0 cardinality/MOLunarLanderStartRight-v0\n",
      "MORL-D(MOSACDiscrete)-SB+PSA                        54.60 ± 3.56                            70.60 ± 2.50                      59.60 ± 3.70                          69.20 ± 2.27                     55.20 ± 2.27                              60.80 ± 2.87                         52.40 ± 3.12                           54.80 ± 3.87\n",
      "MORL-D(MOSACDiscrete)-SB                            62.60 ± 4.02                            60.40 ± 1.96                      68.00 ± 2.88                          64.40 ± 3.04                     53.00 ± 3.13                              67.40 ± 1.96                         56.60 ± 1.03                           57.00 ± 3.05\n",
      "GPI-PD                                              34.40 ± 3.78                            38.60 ± 5.27                      32.40 ± 2.73                          39.40 ± 4.37                     43.80 ± 4.60                              48.00 ± 1.00                         37.40 ± 4.37                           38.60 ± 4.17\n",
      "GPI-LS                                              52.00 ± 1.22                            48.40 ± 4.12                      45.40 ± 2.01                          48.60 ± 2.16                     46.20 ± 2.35                              46.40 ± 2.54                         42.00 ± 3.58                           47.80 ± 2.75\n",
      "Envelope                                            42.60 ± 2.87                            81.40 ± 3.14                      46.60 ± 2.62                          74.20 ± 2.65                     80.20 ± 3.09                              82.60 ± 2.27                         42.40 ± 3.56                           39.60 ± 3.56\n",
      "PCN                                                  8.80 ± 0.73                             6.00 ± 1.34                       8.80 ± 1.32                           6.00 ± 1.70                      5.20 ± 0.58                               8.80 ± 0.86                          9.20 ± 0.80                            6.40 ± 0.40\n",
      "SAC Discrete Action                                 53.20 ± 3.97                            58.60 ± 4.34                      51.20 ± 4.69                          61.00 ± 1.61                     60.40 ± 7.65                              52.80 ± 5.35                         55.20 ± 3.02                           48.80 ± 5.71\n"
     ]
    }
   ],
   "source": [
    "import numpy as np\n",
    "\n",
    "scores_save_path = f\"data/cardinality/{ENV_NAME}\"\n",
    "\n",
    "table_data = {}\n",
    "\n",
    "for algo in ALGORITHMS:\n",
    "    algo_path = f\"{scores_save_path}/{algo}/\"\n",
    "    algo_data = []\n",
    "    \n",
    "    for seed in SEEDS:\n",
    "        file = f\"{algo_path}/seed_{seed}.csv\"\n",
    "        assert os.path.exists(file), f\"File {file} does not exist\"\n",
    "        \n",
    "        df = pd.read_csv(file)\n",
    "        algo_data.append(df.values.flatten())\n",
    "    \n",
    "    # Convert to numpy array for easier aggregation\n",
    "    algo_data = np.array(algo_data)  # Shape: (num_seeds, num_envs)\n",
    "    \n",
    "    # Calculate mean and error ranges\n",
    "    mean = np.mean(algo_data, axis=0)  # Mean over seeds\n",
    "    std_error = np.std(algo_data, axis=0, ddof=1) / np.sqrt(len(SEEDS))  # Standard error\n",
    "    \n",
    "    # Format mean ± SE as a string for each environment\n",
    "    env_results = [\n",
    "        f\"{mean[i]:.2f} ± {std_error[i]:.2f}\" for i in range(len(ENVIRONMENTS_MAP[ENV_NAME]))\n",
    "    ]\n",
    "    \n",
    "    # Store in table_data\n",
    "    table_data[algo] = env_results\n",
    "\n",
    "env_names = [f\"cardinality/{env}\" for env in ENVIRONMENTS_MAP[ENV_NAME]]\n",
    "table_df = pd.DataFrame.from_dict(table_data, orient=\"index\", columns=env_names)\n",
    "\n",
    "# print the table\n",
    "print(\"Mean ± SE Cardinality Table:\")\n",
    "print(table_df.to_string())\n",
    "\n",
    "# Save the table to a CSV file\n",
    "results_path = f\"{scores_save_path}/combined_table.csv\"\n",
    "table_df.to_csv(results_path, index_label=\"Algorithm\")"
   ]
  },
  {
   "cell_type": "code",
   "execution_count": null,
   "metadata": {},
   "outputs": [],
   "source": []
  }
 ],
 "metadata": {
  "kernelspec": {
   "display_name": "Python 3",
   "language": "python",
   "name": "python3"
  },
  "language_info": {
   "codemirror_mode": {
    "name": "ipython",
    "version": 3
   },
   "file_extension": ".py",
   "mimetype": "text/x-python",
   "name": "python",
   "nbconvert_exporter": "python",
   "pygments_lexer": "ipython3",
   "version": "3.9.19"
  }
 },
 "nbformat": 4,
 "nbformat_minor": 2
}
