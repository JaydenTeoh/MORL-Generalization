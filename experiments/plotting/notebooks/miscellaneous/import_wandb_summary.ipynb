{
 "cells": [
  {
   "cell_type": "code",
   "execution_count": null,
   "metadata": {},
   "outputs": [],
   "source": [
    "import pandas as pd\n",
    "import wandb\n",
    "import os\n",
    "from datetime import datetime\n",
    "from rich.progress import Progress\n",
    "\n",
    "api = wandb.Api(timeout=60)\n",
    "entity = '<REDACTED>'\n",
    "project = 'MORL-Generalization'\n",
    "if not entity:\n",
    "    raise ValueError(\"Entity not provided and environment variable 'WANDB_ENTITY' is not set.\")\n",
    "print(f\"Fetched entity from environment variable 'WANDB_ENTITY': {entity}.\")\n",
    "\n",
    "if not project:\n",
    "    raise ValueError(\"Project not provided and environment variable 'WANDB_PROJECT' is not set.\")\n",
    "print(f\"Fetched project from environment variable 'WANDB_PROJECT': {project}.\")"
   ]
  },
  {
   "cell_type": "code",
   "execution_count": null,
   "metadata": {},
   "outputs": [],
   "source": [
    "filters = {\"group\": \"domain_randomization\", \"tags\": {\"$in\": [\"MOHopperDR-v5\"]}}\n",
    "try:\n",
    "    runs_sample = api.runs(path=f\"{entity}/{project}\", per_page=1)\n",
    "    total_runs = len(runs_sample)\n",
    "except Exception as e:\n",
    "    raise ValueError(f\"Invalid entity '{entity}' or project '{project}': {str(e)}\\n\\nAlso, make sure you are properly authenticated. You can authenticate by using 'wandb.login() or setting the environment variable 'WANDB_API_KEY'\")"
   ]
  },
  {
   "cell_type": "code",
   "execution_count": null,
   "metadata": {},
   "outputs": [],
   "source": [
    "# Default CSV file name format\n",
    "date_str = datetime.now().strftime(\"%m%d%y\")\n",
    "output_file = f\"{entity}-{project}-{date_str}.csv\"\n",
    "\n",
    "all_runs_data = []\n",
    "counter = 0\n",
    "with Progress() as progress:\n",
    "    task = progress.add_task(\"[cyan]Fetching runs...\", total=total_runs)\n",
    "\n",
    "    last_created_at = None\n",
    "    while not progress.finished:\n",
    "        filters = {\"group\": \"domain_randomization\"}\n",
    "        if last_created_at:\n",
    "            filters[\"created_at\"] = {\"$gt\": last_created_at}\n",
    "\n",
    "        runs = api.runs(path=f\"{entity}/{project}\", per_page=100, order=\"created_at\", filters=filters)\n",
    "        for run in runs:\n",
    "            if run.state != \"finished\":\n",
    "                continue\n",
    "            run_data = {\n",
    "                \"name\": run.name,\n",
    "                \"state\": run.state,\n",
    "                **run.summary._json_dict,\n",
    "            }\n",
    "            all_runs_data.append(run_data)\n",
    "            progress.update(task, advance=1)\n",
    "        if len(runs) > 0:\n",
    "            last_created_at = runs[-1].created_at\n",
    "\n",
    "df = pd.DataFrame(all_runs_data)\n",
    "print(f\"There are {len(df)} runs fetched.\")"
   ]
  },
  {
   "cell_type": "code",
   "execution_count": null,
   "metadata": {},
   "outputs": [],
   "source": [
    "df"
   ]
  },
  {
   "cell_type": "code",
   "execution_count": null,
   "metadata": {},
   "outputs": [],
   "source": [
    "# Split the 'name' column into 'env_id', 'algorithm', 'seed', and 'time'\n",
    "df[['env_id', 'name', 'seed', 'time']] = df['name'].str.split('__', expand=True)\n",
    "\n",
    "# Drop rows with missing global_step\n",
    "df = df.dropna(subset=['global_step'])\n",
    "\n",
    "# Convert global_step to integer to ensure correct sorting\n",
    "df['global_step'] = df['global_step'].astype(int)\n",
    "\n",
    "# Filter for only columns that start with \"eval/\", \"name\", and \"global_step\"\n",
    "columns_to_keep = df.filter(regex='^(eval/|name|global_step|env_id|seed)').columns\n",
    "df = df[columns_to_keep]\n",
    "\n",
    "# Remove the \"eval/\" prefix from the column names\n",
    "df.columns = df.columns.str.replace('^eval/', '', regex=True)\n",
    "\n",
    "# Create the directory structure and save CSV files for each seed\n",
    "output_directory = 'data/wandb_summary'  # Base directory where everything will be saved\n",
    "\n",
    "if not os.path.exists(output_directory):\n",
    "    os.makedirs(output_directory)\n",
    "\n",
    "# Loop through each unique combination of 'env_id' and 'algorithm'\n",
    "for (env_id, algorithm), group in df.groupby(['env_id', 'name']):\n",
    "    # Create folder for each env_id\n",
    "    env_dir = os.path.join(output_directory, env_id)\n",
    "    if not os.path.exists(env_dir):\n",
    "        os.makedirs(env_dir)\n",
    "    \n",
    "    # Create folder for each algorithm within the corresponding env_id folder\n",
    "    algo_dir = os.path.join(env_dir, algorithm)\n",
    "    if not os.path.exists(algo_dir):\n",
    "        os.makedirs(algo_dir)\n",
    "    \n",
    "    # Loop through each seed and save the corresponding data as a CSV file\n",
    "    for seed, seed_data in group.groupby('seed'):\n",
    "        # Sort by global_step in ascending order\n",
    "        seed_data = seed_data.sort_values(by='global_step')\n",
    "\n",
    "        # Set global_step as the index\n",
    "        seed_data.set_index('global_step', inplace=True)\n",
    "        \n",
    "        # Ensure that rows with the same global_step are merged (if necessary)\n",
    "        # This will collapse rows with the same 'global_step' by taking non-null values\n",
    "        seed_data = seed_data.groupby('global_step').first()\n",
    "\n",
    "        # Save the data for this seed\n",
    "        seed_file_path = os.path.join(algo_dir, f'seed_{seed}.csv')\n",
    "        seed_data.to_csv(seed_file_path, index=True)\n",
    "\n",
    "print(\"Files have been successfully created.\")\n"
   ]
  },
  {
   "cell_type": "code",
   "execution_count": null,
   "metadata": {},
   "outputs": [],
   "source": []
  }
 ],
 "metadata": {
  "kernelspec": {
   "display_name": "Python 3",
   "language": "python",
   "name": "python3"
  },
  "language_info": {
   "codemirror_mode": {
    "name": "ipython",
    "version": 3
   },
   "file_extension": ".py",
   "mimetype": "text/x-python",
   "name": "python",
   "nbconvert_exporter": "python",
   "pygments_lexer": "ipython3",
   "version": "3.9.19"
  }
 },
 "nbformat": 4,
 "nbformat_minor": 2
}
